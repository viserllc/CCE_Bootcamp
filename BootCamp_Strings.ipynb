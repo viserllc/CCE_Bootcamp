{
 "cells": [
  {
   "cell_type": "code",
   "execution_count": 3,
   "metadata": {},
   "outputs": [
    {
     "name": "stdout",
     "output_type": "stream",
     "text": [
      "I love python @ programming. www.gmail.com\n",
      "I LOVE PYTHON @ PROGRAMMING. WWW.GMAIL.COM\n",
      "2\n",
      "True\n",
      "['i', 'love', 'python', '@', 'programming.', 'www.gmail.com']\n",
      "['i love python ', ' programming. www.gmail.com']\n"
     ]
    }
   ],
   "source": [
    "\n",
    "text = \"i love python @ programming. www.gmail.com\"\n",
    "print(text.capitalize())\n",
    "print(text.upper())\n",
    "print(text.count(\"p\"))\n",
    "print(text.endswith(\"com\"))\n",
    "print(text.rsplit())\n",
    "print(text.split(\"@\", 1))"
   ]
  },
  {
   "cell_type": "code",
   "execution_count": 4,
   "metadata": {},
   "outputs": [
    {
     "name": "stdout",
     "output_type": "stream",
     "text": [
      "i late python @ programming. www.gmail.com\n"
     ]
    }
   ],
   "source": [
    "newText = text.replace(\"ove\", \"ate\")\n",
    "print(newText)"
   ]
  },
  {
   "cell_type": "code",
   "execution_count": 5,
   "metadata": {},
   "outputs": [
    {
     "name": "stdout",
     "output_type": "stream",
     "text": [
      "joe\n",
      "j\n",
      "o\n",
      "e\n"
     ]
    }
   ],
   "source": [
    "#STRING PARSING IN PYTHON\n",
    "s = 'joe'\n",
    "print(s)\n",
    "\n",
    "# step 1:Unpack into variables\n",
    "a, b, c = s \n",
    "print(a)\n",
    "print(b)\n",
    "print(c)"
   ]
  },
  {
   "cell_type": "code",
   "execution_count": null,
   "metadata": {},
   "outputs": [],
   "source": [
    "#SLICING PYTHON STRINGS\n",
    "#start at position 4 (zero-based) in the string and up to but not #including the character at position 8.\n",
    "print(s1[4:8])\n",
    "\n",
    "# Returns from pos 4 to the end of the string ---(s[4:])\n",
    "print(s1[4:])\n",
    "\n",
    "# Returns from the beginning to pos 3 -- (s[:4])\n",
    "print(s[:4])\n",
    "\n",
    "# Returns complete string --- (s[:])\n",
    "print(s[:])\n",
    "\n",
    "# Adding/concatenate strings\n",
    "s2 = s[:6] + s[6:]\n",
    "print(s[2])"
   ]
  },
  {
   "cell_type": "code",
   "execution_count": null,
   "metadata": {},
   "outputs": [],
   "source": [
    "#SKIPPING CHARACTERS WHILE SPLITTING PYTHON STRINGS\n",
    "#add a third parameter, which specifies the 'stride', or how many characters you want\n",
    "#to move forward after each character is retrieved from the original string.\n",
    "print(s1[4:8])\n",
    "\n",
    "# 1 is the default value anyway, so same result\n",
    "print(s[4:8:1])\n",
    "\n",
    "# Return a character, then move forward 2 positions, etc.\n",
    "print(s[4:8:2]) \n",
    "print(s[8:4:-1])# going backwards"
   ]
  },
  {
   "cell_type": "code",
   "execution_count": null,
   "metadata": {},
   "outputs": [],
   "source": [
    "# CHARACTER BY LOCATION---Get the 5th character\n",
    "s1 = 'I love python'\n",
    "print(s1[4])\n",
    "\n",
    "#If you want to start counting from the end of the string, instead of the beginning, use a negative index.\n",
    "#For example, an index of -1 refers to the right-most character of the string.\n",
    "print(s1[-1])\n",
    "print(s1[-7])"
   ]
  },
  {
   "cell_type": "code",
   "execution_count": 6,
   "metadata": {},
   "outputs": [
    {
     "name": "stdout",
     "output_type": "stream",
     "text": [
      "Input a letter of the alphabet: M\n",
      "M is a consonant.\n"
     ]
    }
   ],
   "source": [
    "#Write a Python program to check whether an alphabet is a vowel or consonant.\n",
    "\n",
    "char = input(\"Input a letter of the alphabet: \")\n",
    "\n",
    "if char in ('a', 'e', 'i', 'o', 'u'):\n",
    "    print(\"%s is a vowel.\" %char)\n",
    "else:\n",
    "    print(\"%s is a consonant.\" %char) "
   ]
  },
  {
   "cell_type": "code",
   "execution_count": 7,
   "metadata": {},
   "outputs": [
    {
     "name": "stdout",
     "output_type": "stream",
     "text": [
      "Python\n",
      "PYTHON\n"
     ]
    }
   ],
   "source": [
    "#Write a Python function to convert a given string to all uppercase if it contains at \n",
    "#least 2 uppercase characters in the first 4 characters. \n",
    "def to_uppercase(str1):\n",
    "    num_upper = 0\n",
    "    for letter in str1[:4]: \n",
    "        if letter.upper() == letter:\n",
    "            num_upper += 1\n",
    "    if num_upper >= 2:\n",
    "        return str1.upper()\n",
    "    return str1\n",
    "\n",
    "print(to_uppercase('Python'))\n",
    "print(to_uppercase('PyThon'))"
   ]
  },
  {
   "cell_type": "code",
   "execution_count": 2,
   "metadata": {},
   "outputs": [
    {
     "name": "stdout",
     "output_type": "stream",
     "text": [
      "Hello, John!\n"
     ]
    }
   ],
   "source": [
    "# This prints out \"Hello, John!\"\n",
    "name = \"John\"\n",
    "print(\"Hello, %s!\" % name)"
   ]
  },
  {
   "cell_type": "code",
   "execution_count": 9,
   "metadata": {},
   "outputs": [
    {
     "name": "stdout",
     "output_type": "stream",
     "text": [
      "John is 23 years old.\n"
     ]
    }
   ],
   "source": [
    "name = \"John\"\n",
    "age = 23\n",
    "print(\"%s is %d years old.\" % (name, age))\n"
   ]
  },
  {
   "cell_type": "code",
   "execution_count": null,
   "metadata": {},
   "outputs": [],
   "source": []
  },
  {
   "cell_type": "code",
   "execution_count": null,
   "metadata": {},
   "outputs": [],
   "source": []
  }
 ],
 "metadata": {
  "kernelspec": {
   "display_name": "Python 3",
   "language": "python",
   "name": "python3"
  },
  "language_info": {
   "codemirror_mode": {
    "name": "ipython",
    "version": 3
   },
   "file_extension": ".py",
   "mimetype": "text/x-python",
   "name": "python",
   "nbconvert_exporter": "python",
   "pygments_lexer": "ipython3",
   "version": "3.6.5"
  }
 },
 "nbformat": 4,
 "nbformat_minor": 2
}
