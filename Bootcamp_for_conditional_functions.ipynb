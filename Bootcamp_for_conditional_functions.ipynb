{
 "cells": [
  {
   "cell_type": "code",
   "execution_count": 4,
   "metadata": {},
   "outputs": [
    {
     "name": "stdout",
     "output_type": "stream",
     "text": [
      "The number is: 0\n",
      "The number is: 1\n",
      "The number is: 2\n",
      "The number is: 3\n",
      "The number is: 4\n"
     ]
    }
   ],
   "source": [
    "for i in range (0, 5):\n",
    "    print(\"The number is:\",i)\n",
    "    "
   ]
  },
  {
   "cell_type": "code",
   "execution_count": 9,
   "metadata": {},
   "outputs": [
    {
     "name": "stdout",
     "output_type": "stream",
     "text": [
      "i\n",
      "l\n",
      "o\n",
      "v\n",
      "e\n",
      "p\n",
      "y\n",
      "t\n",
      "h\n",
      "o\n",
      "n\n"
     ]
    }
   ],
   "source": [
    "#prints all the letters of a given text\n",
    "text = \"ilovepython\"\n",
    "for letter in text:\n",
    "    print(letter)"
   ]
  },
  {
   "cell_type": "code",
   "execution_count": null,
   "metadata": {},
   "outputs": [],
   "source": []
  },
  {
   "cell_type": "code",
   "execution_count": 11,
   "metadata": {},
   "outputs": [
    {
     "name": "stdout",
     "output_type": "stream",
     "text": [
      "0\n",
      "1\n",
      "2\n",
      "4\n",
      "5\n",
      "7\n",
      "8\n",
      "9\n"
     ]
    }
   ],
   "source": [
    "#Write a Python program that prints all the numbers from 0 to 6 except 3 and 6.\n",
    "for i in range(0,10):\n",
    "    if (i== 3 or i == 6):\n",
    "        continue\n",
    "    else:\n",
    "        print(i)"
   ]
  },
  {
   "cell_type": "code",
   "execution_count": 14,
   "metadata": {},
   "outputs": [
    {
     "name": "stdout",
     "output_type": "stream",
     "text": [
      "sum is 1\n",
      "sum is 3\n",
      "sum is 6\n",
      "sum is 10\n",
      "sum is 15\n",
      "sum is 21\n",
      "sum is 28\n",
      "sum is 36\n",
      "The sum of numbers from 1 to n is: 36\n"
     ]
    }
   ],
   "source": [
    "# To add the numbers from 0 to n where n is a given number\n",
    "n = 8\n",
    "sum = 0\n",
    "for i in range(1,n+1):\n",
    "    sum = sum+i\n",
    "    print(\"sum is\", sum)\n",
    "print(\"The sum of numbers from 1 to n is:\", sum)"
   ]
  },
  {
   "cell_type": "code",
   "execution_count": 16,
   "metadata": {},
   "outputs": [
    {
     "name": "stdout",
     "output_type": "stream",
     "text": [
      "Number of even numbers : 3\n",
      "Number of odd numbers : 6\n"
     ]
    }
   ],
   "source": [
    "#Write a Python program to count the number of even and odd numbers from a series of numbers.\n",
    "numbers = (1, 7, 3, 4, 5, 6, 19, 8, 9) # Declaring the series\n",
    "count_odd = 0\n",
    "count_even = 0\n",
    "for x in numbers:\n",
    "        if  x % 2 ==0:\n",
    "            count_even+=1\n",
    "        else:\n",
    "            count_odd+=1\n",
    "print(\"Number of even numbers :\",count_even)\n",
    "print(\"Number of odd numbers :\",count_odd)"
   ]
  },
  {
   "cell_type": "code",
   "execution_count": 5,
   "metadata": {},
   "outputs": [],
   "source": [
    "# Write a program That will return TRUE if the two given integer \n",
    "#values are equal and FALSE if their sum or difference is 5\n",
    "def sum_diff(num1, num2):\n",
    "    if(num1 == num2):\n",
    "        print(\"TRUE\")\n",
    "    elif(num1-num2 == 5 or num2-num1 == 5 or num1+num2 ==5):\n",
    "        print(\"FALSE\")\n",
    "    else:\n",
    "        print(\"Neither True nor False\")"
   ]
  },
  {
   "cell_type": "code",
   "execution_count": 7,
   "metadata": {},
   "outputs": [
    {
     "name": "stdout",
     "output_type": "stream",
     "text": [
      "FALSE\n"
     ]
    }
   ],
   "source": [
    "sum_diff(3,8)"
   ]
  },
  {
   "cell_type": "code",
   "execution_count": null,
   "metadata": {},
   "outputs": [],
   "source": []
  },
  {
   "cell_type": "code",
   "execution_count": 8,
   "metadata": {},
   "outputs": [],
   "source": [
    "# Write a function that returns the sum of multiples of 3 and 5 between 0 and limit (parameter)\n",
    "def sum_multi(limit):\n",
    "    sum = 0\n",
    "    for i in range(1, limit+1):\n",
    "        if i%3 == 0 or i%5 == 0:\n",
    "            print(i)\n",
    "            sum = sum+i\n",
    "        else:\n",
    "            continue\n",
    "    print(\"The sum of all multiples of 3 and 5 is\",  sum)"
   ]
  },
  {
   "cell_type": "code",
   "execution_count": null,
   "metadata": {},
   "outputs": [],
   "source": []
  },
  {
   "cell_type": "code",
   "execution_count": null,
   "metadata": {},
   "outputs": [],
   "source": [
    "#Write a Python program that accepts a word from the user and reverse it.\n",
    "\n",
    "def reverse(s):\n",
    "    str = \"\"\n",
    "    for i in s:\n",
    "        str = i+str\n",
    "    print(str)"
   ]
  },
  {
   "cell_type": "code",
   "execution_count": 1,
   "metadata": {},
   "outputs": [
    {
     "name": "stdout",
     "output_type": "stream",
     "text": [
      "4A3B2C1D3A\n",
      "1P1H1P\n",
      "4A3B3C1D2A1B1D4A1C\n"
     ]
    }
   ],
   "source": [
    "#Write a Python program that takes a string and encode it that the amount of symbols would be represented by integer                                                     \n",
    "#and the symbol.\n",
    "#For example, the string \"AAAABBBCCDAAA\" would be encoded as \"4A3B2C1D3A\"\n",
    "\n",
    "def encode_string(str1):\n",
    "    encoded = \"\"\n",
    "    ctr = 1\n",
    "    last_char = str1[0]\n",
    "\n",
    "    for i in range(1, len(str1)):\n",
    "        if last_char == str1[i]:\n",
    "            ctr += 1\n",
    "        else:\n",
    "            encoded += str(ctr) + last_char\n",
    "            ctr = 0\n",
    "            last_char = str1[i]\n",
    "            ctr += 1\n",
    "    encoded += str(ctr) + last_char\n",
    "    return encoded\n",
    "print(encode_string(\"AAAABBBCCDAAA\")) \n",
    "print(encode_string(\"PHP\"))  \n",
    "print(encode_string(\"AAAABBBCCCDAABDAAAAC\")) "
   ]
  },
  {
   "cell_type": "code",
   "execution_count": null,
   "metadata": {},
   "outputs": [],
   "source": [
    "#Write a function that prints all the prime numbers between 0 and \n",
    "#limit where limit is a parameter.\n",
    "\n",
    "def find_prime(limit):  \n",
    "    for val in range(1, limit + 1):  \n",
    "   # If num is divisible by any number between 2 and val, it is not prime  \n",
    "       if val > 1: \n",
    "           for n in range(2, val): \n",
    "                if (val % n == 0): \n",
    "                    break\n",
    "           else:    #The else block just after for/while is executed only when the loop is NOT terminated by a break statement.\n",
    "                print(val)"
   ]
  }
 ],
 "metadata": {
  "kernelspec": {
   "display_name": "Python 3",
   "language": "python",
   "name": "python3"
  },
  "language_info": {
   "codemirror_mode": {
    "name": "ipython",
    "version": 3
   },
   "file_extension": ".py",
   "mimetype": "text/x-python",
   "name": "python",
   "nbconvert_exporter": "python",
   "pygments_lexer": "ipython3",
   "version": "3.6.5"
  }
 },
 "nbformat": 4,
 "nbformat_minor": 2
}
